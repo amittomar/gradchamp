{
 "cells": [
  {
   "cell_type": "code",
   "execution_count": 2,
   "metadata": {},
   "outputs": [
    {
     "data": {
      "text/plain": [
       "132548"
      ]
     },
     "execution_count": 2,
     "metadata": {},
     "output_type": "execute_result"
    }
   ],
   "source": [
    "# Read all the text book\n",
    "words = open('constitution.txt', 'r').read().split()\n",
    "len(words)"
   ]
  },
  {
   "cell_type": "code",
   "execution_count": null,
   "metadata": {},
   "outputs": [],
   "source": [
    "import torch\n",
    "import torch.nn.functional as F\n",
    "import matplotlib.pyplot as plt\n",
    "%matplotlib inline"
   ]
  },
  {
   "cell_type": "code",
   "execution_count": null,
   "metadata": {},
   "outputs": [],
   "source": [
    "len(words)"
   ]
  },
  {
   "cell_type": "code",
   "execution_count": null,
   "metadata": {},
   "outputs": [],
   "source": [
    "words[33]"
   ]
  },
  {
   "cell_type": "code",
   "execution_count": null,
   "metadata": {},
   "outputs": [],
   "source": [
    "# Build a voculabory of characters and mappings to/from integers\n",
    "chars = sorted(list(set(''.join(words))))\n",
    "len(chars)\n",
    "\n",
    "stoi = {s:i+1 for i,s in enumerate(chars)}\n",
    "stoi['~']= 0\n",
    "itos = {i:s for s,i in stoi.items()}\n",
    "itos\n",
    "# assert '~' in stoi.items().key()\n",
    "# chars"
   ]
  },
  {
   "cell_type": "code",
   "execution_count": null,
   "metadata": {},
   "outputs": [],
   "source": [
    "# device = torch.device('cuda' if torch.cuda.is_available() else 'cpu')\n",
    "device='cpu'\n",
    "device\n",
    "\n",
    "# device = torch.cuda.current_device()\n",
    "# device"
   ]
  },
  {
   "cell_type": "code",
   "execution_count": null,
   "metadata": {},
   "outputs": [],
   "source": [
    "#build the dataset\n",
    "block_size = 100  # context length\n",
    "X,Y =[],[]\n",
    "for w in words:\n",
    "    # print(w)\n",
    "    context = [0] * block_size\n",
    "    for ch in w + '~':\n",
    "        ix = stoi[ch]\n",
    "        X.append(context)\n",
    "        Y.append(ix)\n",
    "        # print(''.join(itos[i] for i in context), \"---->\", itos[ix])\n",
    "        context = context[1:] + [ix]\n",
    "# stoi['~']\n",
    "# itos\n",
    "X = torch.tensor(X, device=device)\n",
    "Y = torch.tensor(Y, device=device)\n"
   ]
  },
  {
   "cell_type": "code",
   "execution_count": null,
   "metadata": {},
   "outputs": [],
   "source": [
    "X.shape, X.dtype, Y.shape , Y.dtype, Y.device"
   ]
  },
  {
   "cell_type": "code",
   "execution_count": null,
   "metadata": {},
   "outputs": [],
   "source": [
    "X"
   ]
  },
  {
   "cell_type": "code",
   "execution_count": null,
   "metadata": {},
   "outputs": [],
   "source": [
    "Y"
   ]
  },
  {
   "cell_type": "code",
   "execution_count": null,
   "metadata": {},
   "outputs": [],
   "source": [
    "X.shape, Y.shape"
   ]
  },
  {
   "cell_type": "code",
   "execution_count": null,
   "metadata": {},
   "outputs": [],
   "source": [
    "## we have 87 characters. Lets embed them in 2 dimensions first.\n",
    "C = torch.randn((87,4), device=device)\n",
    "C.shape"
   ]
  },
  {
   "cell_type": "code",
   "execution_count": null,
   "metadata": {},
   "outputs": [],
   "source": [
    "V = F.one_hot(torch.tensor(5, device=device), num_classes=87).float() @ C\n",
    "V\n",
    "# we are discarding the one as the results are same"
   ]
  },
  {
   "cell_type": "code",
   "execution_count": null,
   "metadata": {},
   "outputs": [],
   "source": [
    "emb = C[X]\n",
    "emb.shape"
   ]
  },
  {
   "cell_type": "code",
   "execution_count": null,
   "metadata": {},
   "outputs": [],
   "source": [
    "## use view to changed the shape for matmull correct dimensions\n",
    "g = torch.cuda.manual_seed(42)\n",
    "W1 = torch.randn((20, 400), generator=g, device=device)\n",
    "b1 = torch.randn((400), device=device, generator=g)\n",
    "W2 = torch.randn((400,87), generator=g, device=device)\n",
    "b2 = torch.randn((87), generator=g, device=device)\n",
    "\n",
    "parameters = [C,W1,b1,W2,b2]\n",
    "for p in parameters:\n",
    "    p.requires_grad=True\n",
    "# h = torch.tanh(emb.view(-1,40) @ W1 +b1)\n",
    "# h.shape"
   ]
  },
  {
   "cell_type": "code",
   "execution_count": null,
   "metadata": {},
   "outputs": [],
   "source": [
    "# No of parameter\n",
    "sum(p.nelement() for p in parameters)"
   ]
  },
  {
   "cell_type": "code",
   "execution_count": null,
   "metadata": {},
   "outputs": [],
   "source": [
    "lre = torch.linspace(-3,0, 100)\n",
    "lrs = 10**lre"
   ]
  },
  {
   "cell_type": "code",
   "execution_count": null,
   "metadata": {},
   "outputs": [],
   "source": [
    "lri , lossi, stepi = [], [], []"
   ]
  },
  {
   "cell_type": "code",
   "execution_count": null,
   "metadata": {},
   "outputs": [],
   "source": [
    "import torch.nn.functional as F\n",
    "for i in range(50):\n",
    "    \n",
    "    #minibatch construct\n",
    "    # ix = torch.randint(0, X.shape[0],(64,))\n",
    "        \n",
    "    #forward pass\n",
    "    emb = C[X]\n",
    "    # print(f'emb.shape: {emb.shape}')\n",
    "    # print(f'{emb.device} | {}')\n",
    "    ##        multiple of NO of batch * dimension      = 20\n",
    "    h = torch.tanh(emb.view(-1,20) @ W1 + b1)\n",
    "    # print(f'h : {h}')\n",
    "    logits = h @ W2 +b2\n",
    "    # print(f'logits.shape : {logits.shape}')\n",
    "    # print(Y.shape)\n",
    "    loss = F.cross_entropy(logits,Y)\n",
    "\n",
    "    #backward pass\n",
    "    for p in parameters:\n",
    "        p.grad = None\n",
    "    loss.backward()\n",
    "\n",
    "    #update\n",
    "    # lr = lrs[i]\n",
    "    #Emperiacally Observed .01 seems ro be a better Learning rate\n",
    "    for p in parameters:\n",
    "        p.data += -0.05 * p.grad\n",
    "    \n",
    "    #track status\n",
    "    # lri.append(lre[i])\n",
    "    stepi.append(i)\n",
    "    lossi.append(loss.item())\n",
    "        \n",
    "    # print(f'lr: {lr} | loss : {loss.item()}')\n",
    "    if i % 5 == 0:\n",
    "        print(f'step : {i} |loss: {loss.item()}')"
   ]
  },
  {
   "cell_type": "code",
   "execution_count": null,
   "metadata": {},
   "outputs": [],
   "source": [
    "# step_cpu = stepi.detach.numpy()\n",
    "# lossi_cpu=lossi.cpu()\n",
    "# plt.plot(stepi_cpu,lossi_cpu)\n",
    "len(stepi), len(lossi)\n",
    "# stepi.append(100)\n",
    "lossi.append(5.556219100952148)\n",
    "lossi.append(5.556219100952148)\n",
    "plt.plot(stepi, lossi)"
   ]
  },
  {
   "cell_type": "code",
   "execution_count": null,
   "metadata": {},
   "outputs": [],
   "source": [
    "\n",
    "C_cpu = C.cpu()\n",
    "plt.figure(figsize=(8,8))\n",
    "plt.scatter(C_cpu[:,0].data, C_cpu[:,1].data, s=200)\n",
    "print(C_cpu.shape[0])\n",
    "for i in range(C_cpu.shape[0]):\n",
    "    print(C_cpu[i,0].item())\n",
    "    plt.text(C_cpu[i,0].item(). C_cpu[i,1].item(), itos[i], ha=\"center\", va='center', color='white')\n",
    "plt.grid('minor')"
   ]
  },
  {
   "cell_type": "code",
   "execution_count": null,
   "metadata": {},
   "outputs": [],
   "source": [
    "context = [0] * block_size\n",
    "C[torch.tensor([context])].shape"
   ]
  },
  {
   "cell_type": "code",
   "execution_count": null,
   "metadata": {},
   "outputs": [],
   "source": [
    "torch.Size([1, 3, 10])\n"
   ]
  },
  {
   "cell_type": "code",
   "execution_count": null,
   "metadata": {},
   "outputs": [],
   "source": [
    "# sample from the model\n",
    "g = torch.cuda.manual_seed(42)\n",
    "\n",
    "for _ in range(20):\n",
    "    \n",
    "    out = []\n",
    "    context = [0] * block_size # initialize with all ...\n",
    "    while True:\n",
    "      emb = C[torch.tensor([context])] # (1,block_size,d)\n",
    "      h = torch.tanh(emb.view(1, -1) @ W1 + b1)\n",
    "      logits = h @ W2 + b2\n",
    "      probs = F.softmax(logits, dim=1)\n",
    "      ix = torch.multinomial(probs, num_samples=1, generator=g).item()\n",
    "      context = context[1:] + [ix]\n",
    "      out.append(ix)\n",
    "      if ix == 0:\n",
    "        break\n",
    "    \n",
    "    print(''.join(itos[i] for i in out))"
   ]
  }
 ],
 "metadata": {
  "kernelspec": {
   "display_name": "torch2",
   "language": "python",
   "name": "python3"
  },
  "language_info": {
   "codemirror_mode": {
    "name": "ipython",
    "version": 3
   },
   "file_extension": ".py",
   "mimetype": "text/x-python",
   "name": "python",
   "nbconvert_exporter": "python",
   "pygments_lexer": "ipython3",
   "version": "3.11.3"
  },
  "orig_nbformat": 4
 },
 "nbformat": 4,
 "nbformat_minor": 2
}
