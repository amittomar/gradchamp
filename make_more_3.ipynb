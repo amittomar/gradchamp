{
 "cells": [
  {
   "cell_type": "code",
   "execution_count": 53,
   "metadata": {},
   "outputs": [
    {
     "data": {
      "text/plain": [
       "132548"
      ]
     },
     "execution_count": 53,
     "metadata": {},
     "output_type": "execute_result"
    }
   ],
   "source": [
    "# Read all the text book\n",
    "words = open('constitution.txt', 'r').read().split()\n",
    "len(words)"
   ]
  },
  {
   "cell_type": "code",
   "execution_count": 54,
   "metadata": {},
   "outputs": [],
   "source": [
    "import torch\n",
    "import torch.nn.functional as F\n",
    "import matplotlib.pyplot as plt\n",
    "%matplotlib inline"
   ]
  },
  {
   "cell_type": "code",
   "execution_count": 55,
   "metadata": {},
   "outputs": [
    {
     "name": "stdout",
     "output_type": "stream",
     "text": [
      "vocab_size ; 87  |\n",
      " stoi: {'\"': 1, '&': 2, \"'\": 3, '(': 4, ')': 5, '*': 6, ',': 7, '-': 8, '.': 9, '/': 10, '0': 11, '1': 12, '2': 13, '3': 14, '4': 15, '5': 16, '6': 17, '7': 18, '8': 19, '9': 20, ':': 21, ';': 22, 'A': 23, 'B': 24, 'C': 25, 'D': 26, 'E': 27, 'F': 28, 'G': 29, 'H': 30, 'I': 31, 'J': 32, 'K': 33, 'L': 34, 'M': 35, 'N': 36, 'O': 37, 'P': 38, 'Q': 39, 'R': 40, 'S': 41, 'T': 42, 'U': 43, 'V': 44, 'W': 45, 'X': 46, 'Y': 47, 'Z': 48, '[': 49, ']': 50, '_': 51, 'a': 52, 'b': 53, 'c': 54, 'd': 55, 'e': 56, 'f': 57, 'g': 58, 'h': 59, 'i': 60, 'j': 61, 'k': 62, 'l': 63, 'm': 64, 'n': 65, 'o': 66, 'p': 67, 'q': 68, 'r': 69, 's': 70, 't': 71, 'u': 72, 'v': 73, 'w': 74, 'x': 75, 'y': 76, 'z': 77, '–': 78, '—': 79, '―': 80, '‘': 81, '’': 82, '“': 83, '”': 84, '…': 85, '\\uf02a': 86, '~': 0}  | \n",
      "  itos: {1: '\"', 2: '&', 3: \"'\", 4: '(', 5: ')', 6: '*', 7: ',', 8: '-', 9: '.', 10: '/', 11: '0', 12: '1', 13: '2', 14: '3', 15: '4', 16: '5', 17: '6', 18: '7', 19: '8', 20: '9', 21: ':', 22: ';', 23: 'A', 24: 'B', 25: 'C', 26: 'D', 27: 'E', 28: 'F', 29: 'G', 30: 'H', 31: 'I', 32: 'J', 33: 'K', 34: 'L', 35: 'M', 36: 'N', 37: 'O', 38: 'P', 39: 'Q', 40: 'R', 41: 'S', 42: 'T', 43: 'U', 44: 'V', 45: 'W', 46: 'X', 47: 'Y', 48: 'Z', 49: '[', 50: ']', 51: '_', 52: 'a', 53: 'b', 54: 'c', 55: 'd', 56: 'e', 57: 'f', 58: 'g', 59: 'h', 60: 'i', 61: 'j', 62: 'k', 63: 'l', 64: 'm', 65: 'n', 66: 'o', 67: 'p', 68: 'q', 69: 'r', 70: 's', 71: 't', 72: 'u', 73: 'v', 74: 'w', 75: 'x', 76: 'y', 77: 'z', 78: '–', 79: '—', 80: '―', 81: '‘', 82: '’', 83: '“', 84: '”', 85: '…', 86: '\\uf02a', 0: '~'}\n"
     ]
    }
   ],
   "source": [
    "# Build a voculabory of characters and mappings to/from integers\n",
    "chars = sorted(list(set(''.join(words))))\n",
    "len(chars)\n",
    "\n",
    "stoi = {s:i+1 for i,s in enumerate(chars)}\n",
    "stoi['~']= 0\n",
    "itos = {i:s for s,i in stoi.items()}\n",
    "vocab_size = len(itos)\n",
    "print(f'vocab_size ; {vocab_size}  |\\n stoi: {stoi}  | \\n  itos: {itos}')\n",
    "# assert '~' in stoi.items().key()\n",
    "# chars"
   ]
  },
  {
   "cell_type": "code",
   "execution_count": 56,
   "metadata": {},
   "outputs": [
    {
     "data": {
      "text/plain": [
       "device(type='cuda')"
      ]
     },
     "execution_count": 56,
     "metadata": {},
     "output_type": "execute_result"
    }
   ],
   "source": [
    "device = torch.device('cuda' if torch.cuda.is_available() else 'cpu')\n",
    "# device='cpu'\n",
    "device"
   ]
  },
  {
   "cell_type": "code",
   "execution_count": 136,
   "metadata": {},
   "outputs": [
    {
     "name": "stdout",
     "output_type": "stream",
     "text": [
      "total words : 132548 | training size  : 106038  | validation size  : 119293\n",
      "X.shape : torch.Size([643330, 10]) | Y.shape : torch.Size([643330])\n",
      "X.shape : torch.Size([83150, 10]) | Y.shape : torch.Size([83150])\n",
      "X.shape : torch.Size([83197, 10]) | Y.shape : torch.Size([83197])\n"
     ]
    }
   ],
   "source": [
    "#build the dataset\n",
    "block_size = 8  # context length\n",
    "\n",
    "def build_datasets(words):    \n",
    "    X,Y =[],[]\n",
    "    \n",
    "    for w in words:\n",
    "        # print(w)\n",
    "        context = [0] * block_size\n",
    "        for ch in w + '~':\n",
    "            ix = stoi[ch]\n",
    "            X.append(context)\n",
    "            Y.append(ix)\n",
    "            # print(''.join(itos[i] for i in context), \"---->\", itos[ix])\n",
    "            context = context[1:] + [ix]\n",
    "    # stoi['~']\n",
    "    # itos\n",
    "    X = torch.tensor(X, device=device)\n",
    "    Y = torch.tensor(Y, device=device)\n",
    "    print(f'X.shape : {X.shape} | Y.shape : {Y.shape}')\n",
    "    return X,Y\n",
    "\n",
    "\n",
    "import random\n",
    "random.seed(42)\n",
    "# random.shuffle(words) no shuffler required. Hence commented\n",
    "n1 = int(0.8*len(words))\n",
    "n2 = int(0.9*len(words))\n",
    "print(f'total words : {len(words)} | training size  : {n1}  | validation size  : {n2}')\n",
    "Xtr, Ytr = build_datasets(words[:n1])\n",
    "Xv, Yv  = build_datasets(words[n1:n2])\n",
    "Xte, Yt = build_datasets(words[n2:])\n"
   ]
  },
  {
   "cell_type": "code",
   "execution_count": 167,
   "metadata": {},
   "outputs": [
    {
     "name": "stdout",
     "output_type": "stream",
     "text": [
      "38844\n"
     ]
    }
   ],
   "source": [
    "#mlp revisited\n",
    "n_embd = 10  # The dimensions of the character embeding vectors\n",
    "n_hidden = 200 # No of neuron in hidden layer of the MLP    \n",
    "# g = torch.Generator.manual_seed(42) # for cpu prcessing\n",
    "g = torch.cuda.manual_seed(42) # for Gpu prcessing\n",
    "C = torch.randn((vocab_size,n_embd),device=device,                        generator=g)\n",
    "W1 = torch.randn((n_embd* block_size, n_hidden ),device=device,           generator=g) * (5/3)/((n_embd * block_size)**0.5)  #https://pytorch.org/docs/stable/nn.init.html \n",
    "b1 = torch.randn(n_hidden,device=device,                                  generator=g) *  0.01\n",
    "W2 = torch.randn((n_hidden, vocab_size),device=device,                    generator=g) * 0.01\n",
    "b2 = torch.randn(vocab_size,device=device,                                generator=g) * 0\n",
    "\n",
    "bngain = torch.ones((1, n_hidden), device=device)\n",
    "bnbias = torch.zeros((1, n_hidden), device=device)\n",
    "bnmean_running = torch.zeros((1,n_hidden), device=device)\n",
    "bnstd_running = torch.ones((1, n_hidden), device=device)\n",
    "\n",
    "parameters = [C,W1,b2,W2, b2, bngain, bnbias]\n",
    "print(sum(p.nelement() for p in parameters )) # No of parameter in total\n",
    "for p in parameters:\n",
    "    p.requires_grad = True"
   ]
  },
  {
   "cell_type": "code",
   "execution_count": 168,
   "metadata": {},
   "outputs": [
    {
     "name": "stdout",
     "output_type": "stream",
     "text": [
      "      0/ 200000  : 4.4685\n",
      "  10000/ 200000  : 1.9621\n",
      "  20000/ 200000  : 1.5060\n",
      "  30000/ 200000  : 1.4059\n",
      "  40000/ 200000  : 1.6520\n",
      "  50000/ 200000  : 1.1795\n",
      "  60000/ 200000  : 1.7614\n",
      "  70000/ 200000  : 1.1408\n",
      "  80000/ 200000  : 1.4487\n",
      "  90000/ 200000  : 1.3213\n",
      " 100000/ 200000  : 1.3370\n",
      " 110000/ 200000  : 1.2491\n",
      " 120000/ 200000  : 1.4901\n",
      " 130000/ 200000  : 1.0573\n",
      " 140000/ 200000  : 1.1773\n",
      " 150000/ 200000  : 1.3466\n",
      " 160000/ 200000  : 1.5978\n",
      " 170000/ 200000  : 1.9733\n",
      " 180000/ 200000  : 0.8236\n",
      " 190000/ 200000  : 1.2360\n"
     ]
    }
   ],
   "source": [
    "## optimization steps\n",
    "max_steps = 200000\n",
    "batch_size = 32\n",
    "lossi = []\n",
    "\n",
    "for i in range(max_steps):\n",
    "    ix = torch.randint(0,Xtr.shape[0], (batch_size,), generator=g)\n",
    "    Xb,Yb = Xtr[ix], Ytr[ix]  # batch X,Y\n",
    "    \n",
    "    # forward pass\n",
    "    emb = C[Xb]  # embed the characters into vectors\n",
    "    embcat = emb.view(emb.shape[0], -1)  # concatinate the vectors\n",
    "    hpreact = embcat @ W1  # +b1  # hidden layers preactivations\n",
    "    \n",
    "    # BatchNorm Layer  -----------------------------------------------------------------------------------------------\n",
    "    bnmeani = hpreact.mean(0,keepdim=True)\n",
    "    bnstdi = hpreact.std(0, keepdim=True)\n",
    "    hpreact = bngain * (hpreact - bnmeani)/ bnstdi + bnbias  #https://arxiv.org/abs/1502.03167  # batch normalisation\n",
    "    with torch.no_grad():\n",
    "        bnmean_running = 0.999 * bnmean_running + 0.001 * bnmeani\n",
    "        bnstd_running = 0.999 * bnstd_running + 0.001 * bnstdi\n",
    "    # -----------------------------------------------------------------------------------------------------------------\n",
    "    ## Non linearity\n",
    "    h = torch.tanh(hpreact) ## hidden layer\n",
    "    logits = h @ W2 + b2  # output layer\n",
    "    loss = F.cross_entropy(logits, Yb)  # loss function\n",
    "    \n",
    "    \n",
    "    # backward pass\n",
    "    for p in parameters:\n",
    "        p.grad = None\n",
    "    loss.backward()\n",
    "    \n",
    "    #update weight\n",
    "    lr = 0.1 if i < 100000 else 0.01  # step learning rate decay\n",
    "    for p in parameters:\n",
    "        p.data += -lr * p.grad\n",
    "    \n",
    "    # track status\n",
    "    if i % 10000 == 0:\n",
    "        print(f'{i:7d}/{max_steps:7d}  : {loss.item():.4f}')\n",
    "    lossi.append(loss.log10().item())"
   ]
  },
  {
   "cell_type": "code",
   "execution_count": 157,
   "metadata": {},
   "outputs": [
    {
     "data": {
      "text/plain": [
       "(array([1046.,  257.,  202.,  142.,  153.,  110.,  105.,  102.,   94.,\n",
       "          52.,   73.,   58.,   66.,   58.,   71.,   70.,   55.,   50.,\n",
       "          63.,   61.,   61.,   64.,   52.,   57.,   43.,   42.,   59.,\n",
       "          56.,   47.,   65.,   58.,   27.,   62.,   67.,   35.,   79.,\n",
       "          73.,   91.,   55.,   91.,   79.,  115.,  104.,  116.,   81.,\n",
       "         146.,  136.,  198.,  317., 1036.]),\n",
       " array([-9.99999940e-01, -9.59999942e-01, -9.19999943e-01, -8.79999944e-01,\n",
       "        -8.39999945e-01, -7.99999946e-01, -7.59999948e-01, -7.19999949e-01,\n",
       "        -6.79999950e-01, -6.39999951e-01, -5.99999952e-01, -5.59999954e-01,\n",
       "        -5.19999955e-01, -4.79999956e-01, -4.39999957e-01, -3.99999958e-01,\n",
       "        -3.59999959e-01, -3.19999961e-01, -2.79999962e-01, -2.39999963e-01,\n",
       "        -1.99999964e-01, -1.59999965e-01, -1.19999967e-01, -7.99999678e-02,\n",
       "        -3.99999690e-02,  2.98023224e-08,  4.00000286e-02,  8.00000274e-02,\n",
       "         1.20000026e-01,  1.60000025e-01,  2.00000024e-01,  2.40000023e-01,\n",
       "         2.80000021e-01,  3.20000020e-01,  3.60000019e-01,  4.00000018e-01,\n",
       "         4.40000017e-01,  4.80000015e-01,  5.20000014e-01,  5.60000013e-01,\n",
       "         6.00000012e-01,  6.40000011e-01,  6.80000010e-01,  7.20000008e-01,\n",
       "         7.60000007e-01,  8.00000006e-01,  8.40000005e-01,  8.80000004e-01,\n",
       "         9.20000002e-01,  9.60000001e-01,  1.00000000e+00]),\n",
       " <BarContainer object of 50 artists>)"
      ]
     },
     "execution_count": 157,
     "metadata": {},
     "output_type": "execute_result"
    },
    {
     "data": {
      "image/png": "[encoded data removed]",
      "text/plain": [
       "<Figure size 640x480 with 1 Axes>"
      ]
     },
     "metadata": {},
     "output_type": "display_data"
    }
   ],
   "source": [
    "h_cpu = h.cpu()\n",
    "h_cpu.device\n",
    "plt.hist(h_cpu.view(-1).tolist(), 50)"
   ]
  },
  {
   "cell_type": "code",
   "execution_count": 158,
   "metadata": {},
   "outputs": [
    {
     "data": {
      "text/plain": [
       "<matplotlib.image.AxesImage at 0x7f6d1f89a1d0>"
      ]
     },
     "execution_count": 158,
     "metadata": {},
     "output_type": "execute_result"
    },
    {
     "data": {
      "image/png": "[encoded data removed]",
      "text/plain": [
       "<Figure size 2000x1000 with 1 Axes>"
      ]
     },
     "metadata": {},
     "output_type": "display_data"
    }
   ],
   "source": [
    "plt.figure(figsize=(20,10))\n",
    "plt.imshow(h_cpu.abs()> 0.99, cmap='gray', interpolation='nearest')"
   ]
  },
  {
   "cell_type": "code",
   "execution_count": 159,
   "metadata": {},
   "outputs": [
    {
     "data": {
      "text/plain": [
       "tensor(0.2029)"
      ]
     },
     "execution_count": 159,
     "metadata": {},
     "output_type": "execute_result"
    }
   ],
   "source": [
    "# Experimenting with initialiuzng\n",
    "# gain/ fan_in **0.5\n",
    "(torch.randn(10000)*0.2).std()"
   ]
  },
  {
   "cell_type": "code",
   "execution_count": 160,
   "metadata": {},
   "outputs": [
    {
     "data": {
      "text/plain": [
       "(array([  1.,   2.,   4.,   1.,   5.,  11.,  12.,  24.,  22.,  29.,  35.,\n",
       "         55.,  58.,  81., 101., 133., 158., 182., 266., 290., 360., 405.,\n",
       "        427., 486., 433., 482., 466., 334., 317., 290., 221., 133., 123.,\n",
       "        122.,  84.,  51.,  47.,  35.,  30.,  23.,  18.,  11.,  11.,   8.,\n",
       "          4.,   3.,   3.,   2.,   0.,   1.]),\n",
       " array([-8.47451687, -8.12218466, -7.76985245, -7.41752024, -7.06518803,\n",
       "        -6.71285582, -6.36052361, -6.00819139, -5.65585918, -5.30352697,\n",
       "        -4.95119476, -4.59886255, -4.24653034, -3.89419813, -3.54186592,\n",
       "        -3.18953371, -2.8372015 , -2.48486929, -2.13253708, -1.78020487,\n",
       "        -1.42787266, -1.07554045, -0.72320824, -0.37087603, -0.01854382,\n",
       "         0.33378839,  0.68612061,  1.03845282,  1.39078503,  1.74311724,\n",
       "         2.09544945,  2.44778166,  2.80011387,  3.15244608,  3.50477829,\n",
       "         3.8571105 ,  4.20944271,  4.56177492,  4.91410713,  5.26643934,\n",
       "         5.61877155,  5.97110376,  6.32343597,  6.67576818,  7.0281004 ,\n",
       "         7.38043261,  7.73276482,  8.08509703,  8.43742924,  8.78976145,\n",
       "         9.14209366]),\n",
       " <BarContainer object of 50 artists>)"
      ]
     },
     "execution_count": 160,
     "metadata": {},
     "output_type": "execute_result"
    },
    {
     "data": {
      "image/png": "[encoded data removed]",
      "text/plain": [
       "<Figure size 640x480 with 1 Axes>"
      ]
     },
     "metadata": {},
     "output_type": "display_data"
    }
   ],
   "source": [
    "hpreact_c =  hpreact.cpu()\n",
    "plt.hist(hpreact_c.view(-1).tolist(), 50)"
   ]
  },
  {
   "cell_type": "code",
   "execution_count": 161,
   "metadata": {},
   "outputs": [
    {
     "data": {
      "text/plain": [
       "[<matplotlib.lines.Line2D at 0x7f6d1f8f2190>]"
      ]
     },
     "execution_count": 161,
     "metadata": {},
     "output_type": "execute_result"
    },
    {
     "data": {
      "image/png": "[encoded data removed]",
      "text/plain": [
       "<Figure size 640x480 with 1 Axes>"
      ]
     },
     "metadata": {},
     "output_type": "display_data"
    }
   ],
   "source": [
    "plt.plot(lossi)"
   ]
  },
  {
   "cell_type": "code",
   "execution_count": 162,
   "metadata": {},
   "outputs": [
    {
     "name": "stdout",
     "output_type": "stream",
     "text": [
      "train 1.1460453271865845\n",
      "val 1.3640717267990112\n"
     ]
    }
   ],
   "source": [
    "@torch.no_grad() # disable gradient tracking\n",
    "def split_loss(split):\n",
    "    x,y  = {\n",
    "        'train' : (Xtr,Ytr),\n",
    "        'val' : (Xv,Yv),\n",
    "        'text' : (Xte, Yt),\n",
    "    }[split]\n",
    "    emb = C[x] # (N,block_size , n_embed)\n",
    "    embcat = emb.view(emb.shape[0], -1) # concat into (N, block_size*n_embd)\n",
    "    hpreact = embcat @ W1 +b1  # hidden layers preactivations\n",
    "    hpreact = bngain* (hpreact - hpreact.mean(0, keepdim=True))/ hpreact.std(0, keepdim=True) + bnbias  #https://arxiv.org/abs/1502.03167  # batch normalisation\n",
    "    h = torch.tanh(hpreact)  # (N, n_hidden)\n",
    "    logits = h @ W2 +b2 # (N, vocab_size)\n",
    "    loss = F.cross_entropy(logits, y)\n",
    "    print(split, loss.item())\n",
    "split_loss('train')\n",
    "split_loss('val')"
   ]
  },
  {
   "cell_type": "code",
   "execution_count": 163,
   "metadata": {},
   "outputs": [
    {
     "name": "stdout",
     "output_type": "stream",
     "text": [
      "exestiditnces~\n",
      "zivel~\n",
      "imicaireal~\n",
      "willances~\n",
      "imitusitelshtiouldren~\n",
      "Tptaksoubliollanysparatender~\n",
      "gikkkinrengessome-tyibq~\n",
      "imgadar~\n",
      "existivalite,~\n",
      "iguzhty;~\n",
      "imkencelilge~\n",
      "inkengenditurallers~\n",
      "imgiluntalitlational~\n",
      "Foukdomunitotated~\n",
      "beitururettiviey~\n",
      "inkaltoul~\n",
      "endeaks.-entendeneg~\n",
      "iilskritsolterttyendy~\n",
      "ulden~\n",
      "quninthen~\n"
     ]
    }
   ],
   "source": [
    "# Sample from the model\n",
    "g = torch.cuda.manual_seed(52)\n",
    "\n",
    "for _ in range(20):\n",
    "    out = []\n",
    "    context = [0] * block_size  # init with Zero\n",
    "    while True:\n",
    "        emb = C[torch.tensor([context])]  # (1,block_size, n_embd)\n",
    "        h = torch.tanh(emb.view(1, -1) @ W1 + b1)\n",
    "        logits = h @ W2 + b2\n",
    "        probs= F.softmax(logits, dim=1)\n",
    "        #sample from the distributions\n",
    "        ix = torch.multinomial(probs, num_samples=1, generator=g).item()\n",
    "        # shift the context window and track the samples\n",
    "        context = context[1:] + [ix]\n",
    "        out.append(ix)\n",
    "        if ix == 0:\n",
    "            break\n",
    "    print(''.join(itos[i] for i in out ))  # decode and porint the generated word"
   ]
  }
 ],
 "metadata": {
  "kernelspec": {
   "display_name": "Python 3",
   "language": "python",
   "name": "python3"
  },
  "language_info": {
   "codemirror_mode": {
    "name": "ipython",
    "version": 3
   },
   "file_extension": ".py",
   "mimetype": "text/x-python",
   "name": "python",
   "nbconvert_exporter": "python",
   "pygments_lexer": "ipython3",
   "version": "3.11.3"
  },
  "orig_nbformat": 4
 },
 "nbformat": 4,
 "nbformat_minor": 2
}
